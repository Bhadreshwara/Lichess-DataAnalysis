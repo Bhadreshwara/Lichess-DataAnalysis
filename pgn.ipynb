{
 "cells": [
  {
   "cell_type": "code",
   "execution_count": 1,
   "metadata": {},
   "outputs": [
    {
     "name": "stderr",
     "output_type": "stream",
     "text": [
      "INFO:numexpr.utils:Note: NumExpr detected 12 cores but \"NUMEXPR_MAX_THREADS\" not set, so enforcing safe limit of 8.\n",
      "INFO:numexpr.utils:NumExpr defaulting to 8 threads.\n"
     ]
    }
   ],
   "source": [
    "from converter.pgn_data import PGNData"
   ]
  },
  {
   "cell_type": "code",
   "execution_count": 4,
   "metadata": {},
   "outputs": [
    {
     "name": "stderr",
     "output_type": "stream",
     "text": [
      "INFO:pgn2data - log_time:initializing at...2023-02-10 20:50:53.523420\n",
      "INFO:pgn2data - pgn_data class:Starting process..\n",
      "INFO:pgn2data - process:Processing file:lichess_Jay_1999_2023-02-10.pgn\n",
      "INFO:pgn2data - pgn_data class:ending process..\n",
      "INFO:pgn2data - log_time:time taken sec: 101.74761540000327 sec\n",
      "INFO:pgn2data - log_time:time taken: 1.0 minute, 41.74761540000327 seconds, \n",
      "INFO:pgn2data - log_time:time started...2023-02-10 20:50:53.523420\n",
      "INFO:pgn2data - log_time:time ended.....2023-02-10 20:52:35.273259\n"
     ]
    },
    {
     "data": {
      "text/plain": [
       "<converter.result.Result at 0x216602865c0>"
      ]
     },
     "execution_count": 4,
     "metadata": {},
     "output_type": "execute_result"
    }
   ],
   "source": [
    "pgn_data = PGNData(\"lichess_Jay_1999_2023-02-10.pgn\", \"jay_1999\")\n",
    "pgn_data.export()"
   ]
  }
 ],
 "metadata": {
  "kernelspec": {
   "display_name": "jaypython",
   "language": "python",
   "name": "python3"
  },
  "language_info": {
   "codemirror_mode": {
    "name": "ipython",
    "version": 3
   },
   "file_extension": ".py",
   "mimetype": "text/x-python",
   "name": "python",
   "nbconvert_exporter": "python",
   "pygments_lexer": "ipython3",
   "version": "3.10.8"
  },
  "orig_nbformat": 4,
  "vscode": {
   "interpreter": {
    "hash": "8e29d5ce6dc1ab1f0cefd3558958db33f63fd950bd93fe778caeb759c423b34f"
   }
  }
 },
 "nbformat": 4,
 "nbformat_minor": 2
}
